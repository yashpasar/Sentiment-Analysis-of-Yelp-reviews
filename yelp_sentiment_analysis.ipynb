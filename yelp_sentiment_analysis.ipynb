{
 "cells": [
  {
   "cell_type": "code",
   "execution_count": 2,
   "metadata": {},
   "outputs": [
    {
     "name": "stderr",
     "output_type": "stream",
     "text": [
      "Using TensorFlow backend.\n"
     ]
    }
   ],
   "source": [
    "import numpy as np # linear algebra\n",
    "import pandas as pd # data processing, CSV file I/O (e.g. pd.read_csv)\n",
    "import matplotlib.pyplot as plt\n",
    "plt.style.use('ggplot')\n",
    "\n",
    "import nltk\n",
    "import string\n",
    "from nltk.corpus import wordnet\n",
    "from nltk import pos_tag\n",
    "from nltk.corpus import stopwords\n",
    "from nltk.tokenize import WhitespaceTokenizer\n",
    "from nltk.stem import WordNetLemmatizer\n",
    "\n",
    "%matplotlib inline\n",
    "%config InlineBackend.figure_format='retina'\n",
    "\n",
    "from sklearn.feature_extraction.text import CountVectorizer\n",
    "from sklearn.model_selection import train_test_split\n",
    "from sklearn.linear_model import LogisticRegression\n",
    "from sklearn.model_selection import GridSearchCV\n",
    "from sklearn.metrics import confusion_matrix, classification_report\n",
    "from keras.wrappers.scikit_learn import KerasClassifier\n",
    "\n",
    "from sklearn.feature_extraction.text import TfidfVectorizer\n",
    "\n",
    "from keras.models import Sequential\n",
    "from keras import layers\n",
    "from keras.preprocessing.text import Tokenizer\n",
    "from keras.preprocessing.sequence import pad_sequences\n",
    "from keras.wrappers.scikit_learn import KerasClassifier\n",
    "\n",
    "import chart_studio.plotly  as py\n",
    "import plotly.graph_objs as go"
   ]
  },
  {
   "cell_type": "code",
   "execution_count": 3,
   "metadata": {},
   "outputs": [],
   "source": [
    "df = pd.read_csv('/Users/yashpasar/Downloads/yelp_sentiment.csv')"
   ]
  },
  {
   "cell_type": "code",
   "execution_count": 4,
   "metadata": {},
   "outputs": [
    {
     "data": {
      "text/html": [
       "<div>\n",
       "<style scoped>\n",
       "    .dataframe tbody tr th:only-of-type {\n",
       "        vertical-align: middle;\n",
       "    }\n",
       "\n",
       "    .dataframe tbody tr th {\n",
       "        vertical-align: top;\n",
       "    }\n",
       "\n",
       "    .dataframe thead th {\n",
       "        text-align: right;\n",
       "    }\n",
       "</style>\n",
       "<table border=\"1\" class=\"dataframe\">\n",
       "  <thead>\n",
       "    <tr style=\"text-align: right;\">\n",
       "      <th></th>\n",
       "      <th>reviews</th>\n",
       "      <th>sentiment</th>\n",
       "    </tr>\n",
       "  </thead>\n",
       "  <tbody>\n",
       "    <tr>\n",
       "      <td>0</td>\n",
       "      <td>Wow... Loved this place.</td>\n",
       "      <td>p</td>\n",
       "    </tr>\n",
       "    <tr>\n",
       "      <td>1</td>\n",
       "      <td>Crust is not good.</td>\n",
       "      <td>n</td>\n",
       "    </tr>\n",
       "    <tr>\n",
       "      <td>2</td>\n",
       "      <td>Not tasty and the texture was just nasty.</td>\n",
       "      <td>n</td>\n",
       "    </tr>\n",
       "    <tr>\n",
       "      <td>3</td>\n",
       "      <td>Stopped by during the late May bank holiday of...</td>\n",
       "      <td>p</td>\n",
       "    </tr>\n",
       "    <tr>\n",
       "      <td>4</td>\n",
       "      <td>The selection on the menu was great and so wer...</td>\n",
       "      <td>p</td>\n",
       "    </tr>\n",
       "  </tbody>\n",
       "</table>\n",
       "</div>"
      ],
      "text/plain": [
       "                                             reviews sentiment\n",
       "0                           Wow... Loved this place.         p\n",
       "1                                 Crust is not good.         n\n",
       "2          Not tasty and the texture was just nasty.         n\n",
       "3  Stopped by during the late May bank holiday of...         p\n",
       "4  The selection on the menu was great and so wer...         p"
      ]
     },
     "execution_count": 4,
     "metadata": {},
     "output_type": "execute_result"
    }
   ],
   "source": [
    "df.head()"
   ]
  },
  {
   "cell_type": "code",
   "execution_count": 5,
   "metadata": {},
   "outputs": [
    {
     "name": "stdout",
     "output_type": "stream",
     "text": [
      "Null values in the dataset:\n"
     ]
    },
    {
     "data": {
      "text/plain": [
       "reviews      0\n",
       "sentiment    0\n",
       "dtype: int64"
      ]
     },
     "execution_count": 5,
     "metadata": {},
     "output_type": "execute_result"
    }
   ],
   "source": [
    "print(\"Null values in the dataset:\") \n",
    "df.isnull().sum()"
   ]
  },
  {
   "cell_type": "code",
   "execution_count": 6,
   "metadata": {},
   "outputs": [],
   "source": [
    "df['Word Count'] = [len(review.split()) for review in df['reviews']]\n",
    "\n",
    "df['Uppercase Char Count'] = [sum(char.isupper() for char in review) \\\n",
    "                              for review in df['reviews']]                           \n",
    "\n",
    "df['Special Char Count'] = [sum(char in string.punctuation for char in review) \\\n",
    "                            for review in df['reviews']]"
   ]
  },
  {
   "cell_type": "code",
   "execution_count": 7,
   "metadata": {},
   "outputs": [
    {
     "data": {
      "text/html": [
       "<div>\n",
       "<style scoped>\n",
       "    .dataframe tbody tr th:only-of-type {\n",
       "        vertical-align: middle;\n",
       "    }\n",
       "\n",
       "    .dataframe tbody tr th {\n",
       "        vertical-align: top;\n",
       "    }\n",
       "\n",
       "    .dataframe thead th {\n",
       "        text-align: right;\n",
       "    }\n",
       "</style>\n",
       "<table border=\"1\" class=\"dataframe\">\n",
       "  <thead>\n",
       "    <tr style=\"text-align: right;\">\n",
       "      <th></th>\n",
       "      <th>reviews</th>\n",
       "      <th>sentiment</th>\n",
       "      <th>Word Count</th>\n",
       "      <th>Uppercase Char Count</th>\n",
       "      <th>Special Char Count</th>\n",
       "    </tr>\n",
       "  </thead>\n",
       "  <tbody>\n",
       "    <tr>\n",
       "      <td>0</td>\n",
       "      <td>Wow... Loved this place.</td>\n",
       "      <td>p</td>\n",
       "      <td>4</td>\n",
       "      <td>2</td>\n",
       "      <td>4</td>\n",
       "    </tr>\n",
       "    <tr>\n",
       "      <td>1</td>\n",
       "      <td>Crust is not good.</td>\n",
       "      <td>n</td>\n",
       "      <td>4</td>\n",
       "      <td>1</td>\n",
       "      <td>1</td>\n",
       "    </tr>\n",
       "    <tr>\n",
       "      <td>2</td>\n",
       "      <td>Not tasty and the texture was just nasty.</td>\n",
       "      <td>n</td>\n",
       "      <td>8</td>\n",
       "      <td>1</td>\n",
       "      <td>1</td>\n",
       "    </tr>\n",
       "    <tr>\n",
       "      <td>3</td>\n",
       "      <td>Stopped by during the late May bank holiday of...</td>\n",
       "      <td>p</td>\n",
       "      <td>15</td>\n",
       "      <td>4</td>\n",
       "      <td>1</td>\n",
       "    </tr>\n",
       "    <tr>\n",
       "      <td>4</td>\n",
       "      <td>The selection on the menu was great and so wer...</td>\n",
       "      <td>p</td>\n",
       "      <td>12</td>\n",
       "      <td>1</td>\n",
       "      <td>1</td>\n",
       "    </tr>\n",
       "  </tbody>\n",
       "</table>\n",
       "</div>"
      ],
      "text/plain": [
       "                                             reviews sentiment  Word Count  \\\n",
       "0                           Wow... Loved this place.         p           4   \n",
       "1                                 Crust is not good.         n           4   \n",
       "2          Not tasty and the texture was just nasty.         n           8   \n",
       "3  Stopped by during the late May bank holiday of...         p          15   \n",
       "4  The selection on the menu was great and so wer...         p          12   \n",
       "\n",
       "   Uppercase Char Count  Special Char Count  \n",
       "0                     2                   4  \n",
       "1                     1                   1  \n",
       "2                     1                   1  \n",
       "3                     4                   1  \n",
       "4                     1                   1  "
      ]
     },
     "execution_count": 7,
     "metadata": {},
     "output_type": "execute_result"
    }
   ],
   "source": [
    "df.head()"
   ]
  },
  {
   "cell_type": "code",
   "execution_count": 8,
   "metadata": {},
   "outputs": [],
   "source": [
    "positive_samples = df[df['sentiment'] == 'p']\n",
    "negative_samples = df[df['sentiment'] == 'n']"
   ]
  },
  {
   "cell_type": "markdown",
   "metadata": {},
   "source": [
    "## Word Count"
   ]
  },
  {
   "cell_type": "code",
   "execution_count": 9,
   "metadata": {},
   "outputs": [
    {
     "data": {
      "text/plain": [
       "count    494.000000\n",
       "mean      10.275304\n",
       "std        5.836265\n",
       "min        1.000000\n",
       "25%        5.250000\n",
       "50%        9.000000\n",
       "75%       13.000000\n",
       "max       32.000000\n",
       "Name: Word Count, dtype: float64"
      ]
     },
     "execution_count": 9,
     "metadata": {},
     "output_type": "execute_result"
    }
   ],
   "source": [
    "positive_samples['Word Count'].describe()"
   ]
  },
  {
   "cell_type": "code",
   "execution_count": 10,
   "metadata": {},
   "outputs": [
    {
     "data": {
      "text/plain": [
       "count    494.000000\n",
       "mean      11.728745\n",
       "std        8.687457\n",
       "min        2.000000\n",
       "25%        6.000000\n",
       "50%       10.000000\n",
       "75%       16.000000\n",
       "max      137.000000\n",
       "Name: Word Count, dtype: float64"
      ]
     },
     "execution_count": 10,
     "metadata": {},
     "output_type": "execute_result"
    }
   ],
   "source": [
    "negative_samples['Word Count'].describe()"
   ]
  },
  {
   "cell_type": "markdown",
   "metadata": {},
   "source": [
    "## Uppercase Character Count"
   ]
  },
  {
   "cell_type": "code",
   "execution_count": 11,
   "metadata": {},
   "outputs": [
    {
     "data": {
      "text/plain": [
       "count    494.000000\n",
       "mean       1.724696\n",
       "std        1.657584\n",
       "min        0.000000\n",
       "25%        1.000000\n",
       "50%        1.000000\n",
       "75%        2.000000\n",
       "max       14.000000\n",
       "Name: Uppercase Char Count, dtype: float64"
      ]
     },
     "execution_count": 11,
     "metadata": {},
     "output_type": "execute_result"
    }
   ],
   "source": [
    "positive_samples['Uppercase Char Count'].describe()"
   ]
  },
  {
   "cell_type": "code",
   "execution_count": 12,
   "metadata": {},
   "outputs": [
    {
     "data": {
      "text/plain": [
       "count    494.000000\n",
       "mean       2.082996\n",
       "std        3.842117\n",
       "min        0.000000\n",
       "25%        1.000000\n",
       "50%        1.000000\n",
       "75%        2.000000\n",
       "max       55.000000\n",
       "Name: Uppercase Char Count, dtype: float64"
      ]
     },
     "execution_count": 12,
     "metadata": {},
     "output_type": "execute_result"
    }
   ],
   "source": [
    "negative_samples['Uppercase Char Count'].describe()"
   ]
  },
  {
   "cell_type": "markdown",
   "metadata": {},
   "source": [
    "## Special Character Count"
   ]
  },
  {
   "cell_type": "code",
   "execution_count": 13,
   "metadata": {},
   "outputs": [
    {
     "data": {
      "text/plain": [
       "count    494.000000\n",
       "mean       1.544534\n",
       "std        1.481817\n",
       "min        0.000000\n",
       "25%        1.000000\n",
       "50%        1.000000\n",
       "75%        2.000000\n",
       "max       19.000000\n",
       "Name: Special Char Count, dtype: float64"
      ]
     },
     "execution_count": 13,
     "metadata": {},
     "output_type": "execute_result"
    }
   ],
   "source": [
    "positive_samples['Special Char Count'].describe()"
   ]
  },
  {
   "cell_type": "code",
   "execution_count": 14,
   "metadata": {},
   "outputs": [
    {
     "data": {
      "text/plain": [
       "count    494.000000\n",
       "mean       1.674089\n",
       "std        1.782566\n",
       "min        0.000000\n",
       "25%        1.000000\n",
       "50%        1.000000\n",
       "75%        2.000000\n",
       "max       31.000000\n",
       "Name: Special Char Count, dtype: float64"
      ]
     },
     "execution_count": 14,
     "metadata": {},
     "output_type": "execute_result"
    }
   ],
   "source": [
    "negative_samples['Special Char Count'].describe()"
   ]
  },
  {
   "cell_type": "code",
   "execution_count": 15,
   "metadata": {},
   "outputs": [
    {
     "data": {
      "text/plain": [
       "p    494\n",
       "n    494\n",
       "Name: sentiment, dtype: int64"
      ]
     },
     "execution_count": 15,
     "metadata": {},
     "output_type": "execute_result"
    }
   ],
   "source": [
    "df.sentiment.value_counts()"
   ]
  },
  {
   "cell_type": "code",
   "execution_count": 16,
   "metadata": {},
   "outputs": [
    {
     "data": {
      "text/html": [
       "\n",
       "        <iframe\n",
       "            width=\"100%\"\n",
       "            height=\"525px\"\n",
       "            src=\"https://plot.ly/~yspasar/11.embed\"\n",
       "            frameborder=\"0\"\n",
       "            allowfullscreen\n",
       "        ></iframe>\n",
       "        "
      ],
      "text/plain": [
       "<IPython.lib.display.IFrame at 0x1a3f88cd10>"
      ]
     },
     "execution_count": 16,
     "metadata": {},
     "output_type": "execute_result"
    }
   ],
   "source": [
    "color_palette_list = ['#009ACD', '#ADD8E6']\n",
    "labels = ['Positive words', \n",
    "          'Negative words']\n",
    "percentages = [50, 50]\n",
    "trace = go.Pie(labels=labels, \n",
    "               hoverinfo='label+percent', \n",
    "               values=percentages, \n",
    "               textposition='outside',\n",
    "               marker=dict(colors=color_palette_list),\n",
    "               rotation=90)\n",
    "layout = go.Layout(\n",
    "                    title=\"Count of positive and negative words\",\n",
    "                    font=dict(family='Arial', size=12, color='#909090'),\n",
    "                    legend=dict(x=0.9, y=0.5)\n",
    "                    )\n",
    "data = [trace]\n",
    "fig = go.Figure(data=data, layout=layout)\n",
    "py.iplot(fig, filename='basic_pie_chart')"
   ]
  },
  {
   "cell_type": "code",
   "execution_count": 17,
   "metadata": {},
   "outputs": [],
   "source": [
    "from collections import Counter\n",
    "\n",
    "def getMostCommonWords(reviews, n_most_common, stopwords=None):\n",
    "    # param reviews: column from pandas.DataFrame (e.g. df['Reviews']) \n",
    "        #(pandas.Series)\n",
    "    # param n_most_common: the top n most common words in reviews (int)\n",
    "    # param stopwords: list of stopwords (str) to remove from reviews (list)\n",
    "    # Returns list of n_most_common words organized in tuples as \n",
    "        #('term', frequency) (list)\n",
    "\n",
    "    # flatten review column into a list of words, and set each to lowercase\n",
    "    flattened_reviews = [word for review in reviews for word in \\\n",
    "                         review.lower().split()]\n",
    "\n",
    "\n",
    "    # remove punctuation from reviews\n",
    "    flattened_reviews = [''.join(char for char in review if \\\n",
    "                                 char not in string.punctuation) for \\\n",
    "                         review in flattened_reviews]\n",
    "\n",
    "\n",
    "    # remove stopwords, if applicable\n",
    "    if stopwords:\n",
    "        flattened_reviews = [word for word in flattened_reviews if \\\n",
    "                             word not in stopwords]\n",
    "\n",
    "\n",
    "    # remove any empty strings that were created by this process\n",
    "    flattened_reviews = [review for review in flattened_reviews if review]\n",
    "\n",
    "    return Counter(flattened_reviews).most_common(n_most_common)"
   ]
  },
  {
   "cell_type": "markdown",
   "metadata": {},
   "source": [
    "## Positive Class with Stopwords"
   ]
  },
  {
   "cell_type": "code",
   "execution_count": 18,
   "metadata": {},
   "outputs": [
    {
     "data": {
      "text/plain": [
       "[('the', 306),\n",
       " ('and', 219),\n",
       " ('was', 137),\n",
       " ('i', 116),\n",
       " ('a', 110),\n",
       " ('is', 102),\n",
       " ('to', 87),\n",
       " ('this', 74),\n",
       " ('good', 72),\n",
       " ('great', 69)]"
      ]
     },
     "execution_count": 18,
     "metadata": {},
     "output_type": "execute_result"
    }
   ],
   "source": [
    "getMostCommonWords(positive_samples['reviews'], 10)"
   ]
  },
  {
   "cell_type": "markdown",
   "metadata": {},
   "source": [
    "## Positive Class without Stopwords"
   ]
  },
  {
   "cell_type": "code",
   "execution_count": 19,
   "metadata": {},
   "outputs": [
    {
     "data": {
      "text/plain": [
       "[('good', 72),\n",
       " ('great', 69),\n",
       " ('food', 59),\n",
       " ('place', 54),\n",
       " ('service', 46),\n",
       " ('friendly', 23),\n",
       " ('delicious', 23),\n",
       " ('back', 23),\n",
       " ('nice', 22),\n",
       " ('best', 22)]"
      ]
     },
     "execution_count": 19,
     "metadata": {},
     "output_type": "execute_result"
    }
   ],
   "source": [
    "getMostCommonWords(positive_samples['reviews'], 10, stopwords.words('english'))"
   ]
  },
  {
   "cell_type": "markdown",
   "metadata": {},
   "source": [
    "## Negative Class with Stopwords"
   ]
  },
  {
   "cell_type": "code",
   "execution_count": 20,
   "metadata": {},
   "outputs": [
    {
     "data": {
      "text/plain": [
       "[('the', 276),\n",
       " ('i', 188),\n",
       " ('and', 170),\n",
       " ('was', 157),\n",
       " ('to', 132),\n",
       " ('a', 126),\n",
       " ('not', 97),\n",
       " ('it', 83),\n",
       " ('of', 74),\n",
       " ('this', 69)]"
      ]
     },
     "execution_count": 20,
     "metadata": {},
     "output_type": "execute_result"
    }
   ],
   "source": [
    "getMostCommonWords(negative_samples['reviews'], 10)"
   ]
  },
  {
   "cell_type": "markdown",
   "metadata": {},
   "source": [
    "## Negative Class without Stopwords"
   ]
  },
  {
   "cell_type": "code",
   "execution_count": 21,
   "metadata": {},
   "outputs": [
    {
     "data": {
      "text/plain": [
       "[('food', 64),\n",
       " ('place', 52),\n",
       " ('back', 38),\n",
       " ('service', 37),\n",
       " ('like', 29),\n",
       " ('go', 26),\n",
       " ('dont', 25),\n",
       " ('good', 22),\n",
       " ('would', 21),\n",
       " ('never', 21)]"
      ]
     },
     "execution_count": 21,
     "metadata": {},
     "output_type": "execute_result"
    }
   ],
   "source": [
    "getMostCommonWords(negative_samples['reviews'], 10, stopwords.words('english'))"
   ]
  },
  {
   "cell_type": "code",
   "execution_count": 22,
   "metadata": {},
   "outputs": [],
   "source": [
    "df.drop(columns=['Word Count', 'Uppercase Char Count', 'Special Char Count'], inplace=True)"
   ]
  },
  {
   "cell_type": "code",
   "execution_count": 23,
   "metadata": {},
   "outputs": [
    {
     "data": {
      "image/png": "[encoded data removed]",
      "text/plain": [
       "<Figure size 1440x1440 with 1 Axes>"
      ]
     },
     "metadata": {
      "image/png": {
       "height": 572,
       "width": 1130
      },
      "needs_background": "light"
     },
     "output_type": "display_data"
    }
   ],
   "source": [
    "# wordcloud function\n",
    "\n",
    "from wordcloud import WordCloud\n",
    "import matplotlib.pyplot as plt\n",
    "\n",
    "def show_wordcloud(data, title = None):\n",
    "    wordcloud = WordCloud(\n",
    "        background_color = 'white',\n",
    "        max_words = 200,\n",
    "        max_font_size = 40, \n",
    "        scale = 3,\n",
    "        random_state = 42\n",
    "    ).generate(str(data))\n",
    "\n",
    "    fig = plt.figure(1, figsize = (20, 20))\n",
    "    plt.axis('off')\n",
    "    if title: \n",
    "        fig.suptitle(title, fontsize = 20)\n",
    "        fig.subplots_adjust(top = 2.3)\n",
    "\n",
    "    plt.imshow(wordcloud)\n",
    "    plt.show()\n",
    "    \n",
    "# print wordcloud\n",
    "show_wordcloud(df[\"reviews\"])"
   ]
  },
  {
   "cell_type": "markdown",
   "metadata": {},
   "source": [
    "# Pre processing\n",
    "## Perform following NLP task on data-\n",
    "### 1. Lower case\n",
    "### 2. Remove punctuation\n",
    "### 3. Remove stop words\n",
    "### 4. Stem the words "
   ]
  },
  {
   "cell_type": "code",
   "execution_count": 24,
   "metadata": {},
   "outputs": [],
   "source": [
    "# return the wordnet object value corresponding to the POS tag\n",
    "def get_wordnet_pos(pos_tag):\n",
    "    if pos_tag.startswith('J'):\n",
    "        return wordnet.ADJ\n",
    "    elif pos_tag.startswith('V'):\n",
    "        return wordnet.VERB\n",
    "    elif pos_tag.startswith('N'):\n",
    "        return wordnet.NOUN\n",
    "    elif pos_tag.startswith('R'):\n",
    "        return wordnet.ADV\n",
    "    else:\n",
    "        return wordnet.NOUN\n",
    "\n",
    "def clean_text(text):\n",
    "    # lower text\n",
    "    text = text.lower()\n",
    "    # tokenize text and remove puncutation\n",
    "    text = [word.strip(string.punctuation) for word in text.split(\" \")]\n",
    "    # remove stop words\n",
    "    stop = stopwords.words('english')\n",
    "    text = [x for x in text if x not in stop]\n",
    "    # remove empty tokens\n",
    "    text = [t for t in text if len(t) > 0]\n",
    "    # pos tag text\n",
    "    pos_tags = pos_tag(text)\n",
    "    # lemmatize text\n",
    "    text = [WordNetLemmatizer().lemmatize(t[0], get_wordnet_pos(t[1])) for t in pos_tags]\n",
    "    # remove words with only one letter\n",
    "    text = [t for t in text if len(t) > 1]\n",
    "    # join all\n",
    "    text = \" \".join(text)\n",
    "    return(text)\n",
    "\n",
    "# clean text data\n",
    "df[\"cleaned_reviews\"] = df[\"reviews\"].apply(lambda x: clean_text(x))"
   ]
  },
  {
   "cell_type": "code",
   "execution_count": 25,
   "metadata": {},
   "outputs": [
    {
     "data": {
      "text/html": [
       "<div>\n",
       "<style scoped>\n",
       "    .dataframe tbody tr th:only-of-type {\n",
       "        vertical-align: middle;\n",
       "    }\n",
       "\n",
       "    .dataframe tbody tr th {\n",
       "        vertical-align: top;\n",
       "    }\n",
       "\n",
       "    .dataframe thead th {\n",
       "        text-align: right;\n",
       "    }\n",
       "</style>\n",
       "<table border=\"1\" class=\"dataframe\">\n",
       "  <thead>\n",
       "    <tr style=\"text-align: right;\">\n",
       "      <th></th>\n",
       "      <th>reviews</th>\n",
       "      <th>sentiment</th>\n",
       "      <th>cleaned_reviews</th>\n",
       "    </tr>\n",
       "  </thead>\n",
       "  <tbody>\n",
       "    <tr>\n",
       "      <td>0</td>\n",
       "      <td>Wow... Loved this place.</td>\n",
       "      <td>p</td>\n",
       "      <td>wow love place</td>\n",
       "    </tr>\n",
       "    <tr>\n",
       "      <td>1</td>\n",
       "      <td>Crust is not good.</td>\n",
       "      <td>n</td>\n",
       "      <td>crust good</td>\n",
       "    </tr>\n",
       "    <tr>\n",
       "      <td>2</td>\n",
       "      <td>Not tasty and the texture was just nasty.</td>\n",
       "      <td>n</td>\n",
       "      <td>tasty texture nasty</td>\n",
       "    </tr>\n",
       "    <tr>\n",
       "      <td>3</td>\n",
       "      <td>Stopped by during the late May bank holiday of...</td>\n",
       "      <td>p</td>\n",
       "      <td>stop late may bank holiday rick steve recommen...</td>\n",
       "    </tr>\n",
       "    <tr>\n",
       "      <td>4</td>\n",
       "      <td>The selection on the menu was great and so wer...</td>\n",
       "      <td>p</td>\n",
       "      <td>selection menu great price</td>\n",
       "    </tr>\n",
       "  </tbody>\n",
       "</table>\n",
       "</div>"
      ],
      "text/plain": [
       "                                             reviews sentiment  \\\n",
       "0                           Wow... Loved this place.         p   \n",
       "1                                 Crust is not good.         n   \n",
       "2          Not tasty and the texture was just nasty.         n   \n",
       "3  Stopped by during the late May bank holiday of...         p   \n",
       "4  The selection on the menu was great and so wer...         p   \n",
       "\n",
       "                                     cleaned_reviews  \n",
       "0                                     wow love place  \n",
       "1                                         crust good  \n",
       "2                                tasty texture nasty  \n",
       "3  stop late may bank holiday rick steve recommen...  \n",
       "4                         selection menu great price  "
      ]
     },
     "execution_count": 25,
     "metadata": {},
     "output_type": "execute_result"
    }
   ],
   "source": [
    "df.head()"
   ]
  },
  {
   "cell_type": "code",
   "execution_count": 26,
   "metadata": {},
   "outputs": [],
   "source": [
    "# add tf-idfs columns\n",
    "from sklearn.feature_extraction.text import TfidfVectorizer\n",
    "tfidf = TfidfVectorizer(ngram_range =(1,2), min_df = 2, lowercase=True)\n",
    "tfidf_result = tfidf.fit_transform(df[\"cleaned_reviews\"]).toarray()\n",
    "tfidf_df = pd.DataFrame(tfidf_result, columns = tfidf.get_feature_names())\n",
    "tfidf_df.columns = [str(x) for x in tfidf_df.columns]\n",
    "tfidf_df.index = df.index"
   ]
  },
  {
   "cell_type": "code",
   "execution_count": 27,
   "metadata": {},
   "outputs": [
    {
     "data": {
      "text/html": [
       "<div>\n",
       "<style scoped>\n",
       "    .dataframe tbody tr th:only-of-type {\n",
       "        vertical-align: middle;\n",
       "    }\n",
       "\n",
       "    .dataframe tbody tr th {\n",
       "        vertical-align: top;\n",
       "    }\n",
       "\n",
       "    .dataframe thead th {\n",
       "        text-align: right;\n",
       "    }\n",
       "</style>\n",
       "<table border=\"1\" class=\"dataframe\">\n",
       "  <thead>\n",
       "    <tr style=\"text-align: right;\">\n",
       "      <th></th>\n",
       "      <th>10</th>\n",
       "      <th>10 minute</th>\n",
       "      <th>100</th>\n",
       "      <th>12</th>\n",
       "      <th>20</th>\n",
       "      <th>20 minute</th>\n",
       "      <th>30</th>\n",
       "      <th>30 min</th>\n",
       "      <th>30 minute</th>\n",
       "      <th>35</th>\n",
       "      <th>...</th>\n",
       "      <th>would recommend</th>\n",
       "      <th>wow</th>\n",
       "      <th>wrap</th>\n",
       "      <th>wrong</th>\n",
       "      <th>year</th>\n",
       "      <th>year ago</th>\n",
       "      <th>yet</th>\n",
       "      <th>yummy</th>\n",
       "      <th>zero</th>\n",
       "      <th>zero star</th>\n",
       "    </tr>\n",
       "  </thead>\n",
       "  <tbody>\n",
       "    <tr>\n",
       "      <td>0</td>\n",
       "      <td>0.0</td>\n",
       "      <td>0.0</td>\n",
       "      <td>0.0</td>\n",
       "      <td>0.0</td>\n",
       "      <td>0.0</td>\n",
       "      <td>0.0</td>\n",
       "      <td>0.0</td>\n",
       "      <td>0.0</td>\n",
       "      <td>0.0</td>\n",
       "      <td>0.0</td>\n",
       "      <td>...</td>\n",
       "      <td>0.0</td>\n",
       "      <td>0.614561</td>\n",
       "      <td>0.0</td>\n",
       "      <td>0.0</td>\n",
       "      <td>0.0</td>\n",
       "      <td>0.0</td>\n",
       "      <td>0.0</td>\n",
       "      <td>0.0</td>\n",
       "      <td>0.0</td>\n",
       "      <td>0.0</td>\n",
       "    </tr>\n",
       "    <tr>\n",
       "      <td>1</td>\n",
       "      <td>0.0</td>\n",
       "      <td>0.0</td>\n",
       "      <td>0.0</td>\n",
       "      <td>0.0</td>\n",
       "      <td>0.0</td>\n",
       "      <td>0.0</td>\n",
       "      <td>0.0</td>\n",
       "      <td>0.0</td>\n",
       "      <td>0.0</td>\n",
       "      <td>0.0</td>\n",
       "      <td>...</td>\n",
       "      <td>0.0</td>\n",
       "      <td>0.000000</td>\n",
       "      <td>0.0</td>\n",
       "      <td>0.0</td>\n",
       "      <td>0.0</td>\n",
       "      <td>0.0</td>\n",
       "      <td>0.0</td>\n",
       "      <td>0.0</td>\n",
       "      <td>0.0</td>\n",
       "      <td>0.0</td>\n",
       "    </tr>\n",
       "    <tr>\n",
       "      <td>2</td>\n",
       "      <td>0.0</td>\n",
       "      <td>0.0</td>\n",
       "      <td>0.0</td>\n",
       "      <td>0.0</td>\n",
       "      <td>0.0</td>\n",
       "      <td>0.0</td>\n",
       "      <td>0.0</td>\n",
       "      <td>0.0</td>\n",
       "      <td>0.0</td>\n",
       "      <td>0.0</td>\n",
       "      <td>...</td>\n",
       "      <td>0.0</td>\n",
       "      <td>0.000000</td>\n",
       "      <td>0.0</td>\n",
       "      <td>0.0</td>\n",
       "      <td>0.0</td>\n",
       "      <td>0.0</td>\n",
       "      <td>0.0</td>\n",
       "      <td>0.0</td>\n",
       "      <td>0.0</td>\n",
       "      <td>0.0</td>\n",
       "    </tr>\n",
       "    <tr>\n",
       "      <td>3</td>\n",
       "      <td>0.0</td>\n",
       "      <td>0.0</td>\n",
       "      <td>0.0</td>\n",
       "      <td>0.0</td>\n",
       "      <td>0.0</td>\n",
       "      <td>0.0</td>\n",
       "      <td>0.0</td>\n",
       "      <td>0.0</td>\n",
       "      <td>0.0</td>\n",
       "      <td>0.0</td>\n",
       "      <td>...</td>\n",
       "      <td>0.0</td>\n",
       "      <td>0.000000</td>\n",
       "      <td>0.0</td>\n",
       "      <td>0.0</td>\n",
       "      <td>0.0</td>\n",
       "      <td>0.0</td>\n",
       "      <td>0.0</td>\n",
       "      <td>0.0</td>\n",
       "      <td>0.0</td>\n",
       "      <td>0.0</td>\n",
       "    </tr>\n",
       "    <tr>\n",
       "      <td>4</td>\n",
       "      <td>0.0</td>\n",
       "      <td>0.0</td>\n",
       "      <td>0.0</td>\n",
       "      <td>0.0</td>\n",
       "      <td>0.0</td>\n",
       "      <td>0.0</td>\n",
       "      <td>0.0</td>\n",
       "      <td>0.0</td>\n",
       "      <td>0.0</td>\n",
       "      <td>0.0</td>\n",
       "      <td>...</td>\n",
       "      <td>0.0</td>\n",
       "      <td>0.000000</td>\n",
       "      <td>0.0</td>\n",
       "      <td>0.0</td>\n",
       "      <td>0.0</td>\n",
       "      <td>0.0</td>\n",
       "      <td>0.0</td>\n",
       "      <td>0.0</td>\n",
       "      <td>0.0</td>\n",
       "      <td>0.0</td>\n",
       "    </tr>\n",
       "  </tbody>\n",
       "</table>\n",
       "<p>5 rows × 963 columns</p>\n",
       "</div>"
      ],
      "text/plain": [
       "    10  10 minute  100   12   20  20 minute   30  30 min  30 minute   35  ...  \\\n",
       "0  0.0        0.0  0.0  0.0  0.0        0.0  0.0     0.0        0.0  0.0  ...   \n",
       "1  0.0        0.0  0.0  0.0  0.0        0.0  0.0     0.0        0.0  0.0  ...   \n",
       "2  0.0        0.0  0.0  0.0  0.0        0.0  0.0     0.0        0.0  0.0  ...   \n",
       "3  0.0        0.0  0.0  0.0  0.0        0.0  0.0     0.0        0.0  0.0  ...   \n",
       "4  0.0        0.0  0.0  0.0  0.0        0.0  0.0     0.0        0.0  0.0  ...   \n",
       "\n",
       "   would recommend       wow  wrap  wrong  year  year ago  yet  yummy  zero  \\\n",
       "0              0.0  0.614561   0.0    0.0   0.0       0.0  0.0    0.0   0.0   \n",
       "1              0.0  0.000000   0.0    0.0   0.0       0.0  0.0    0.0   0.0   \n",
       "2              0.0  0.000000   0.0    0.0   0.0       0.0  0.0    0.0   0.0   \n",
       "3              0.0  0.000000   0.0    0.0   0.0       0.0  0.0    0.0   0.0   \n",
       "4              0.0  0.000000   0.0    0.0   0.0       0.0  0.0    0.0   0.0   \n",
       "\n",
       "   zero star  \n",
       "0        0.0  \n",
       "1        0.0  \n",
       "2        0.0  \n",
       "3        0.0  \n",
       "4        0.0  \n",
       "\n",
       "[5 rows x 963 columns]"
      ]
     },
     "execution_count": 27,
     "metadata": {},
     "output_type": "execute_result"
    }
   ],
   "source": [
    "tfidf_df.head()\n",
    "#tfidf_df.to_csv('Document Term Matrix.csv')"
   ]
  },
  {
   "cell_type": "code",
   "execution_count": 28,
   "metadata": {},
   "outputs": [],
   "source": [
    "X = tfidf_df.values\n",
    "y = df['sentiment'].values"
   ]
  },
  {
   "cell_type": "markdown",
   "metadata": {},
   "source": [
    "## Train-Test Split"
   ]
  },
  {
   "cell_type": "code",
   "execution_count": 29,
   "metadata": {},
   "outputs": [
    {
     "name": "stdout",
     "output_type": "stream",
     "text": [
      "(741, 963) (741,)\n",
      "(247, 963) (247,)\n"
     ]
    }
   ],
   "source": [
    "X_train, X_test, y_train, y_test = train_test_split(X, y, test_size=0.25, random_state=1000)\n",
    "print(X_train.shape, y_train.shape)\n",
    "print(X_test.shape,y_test.shape)"
   ]
  },
  {
   "cell_type": "markdown",
   "metadata": {},
   "source": [
    "# Logistic Regression"
   ]
  },
  {
   "cell_type": "code",
   "execution_count": 30,
   "metadata": {},
   "outputs": [
    {
     "name": "stdout",
     "output_type": "stream",
     "text": [
      "Accuracy for C=0.01: 0.6842105263157895\n",
      "Accuracy for C=0.25: 0.708502024291498\n",
      "Accuracy for C=0.5: 0.728744939271255\n",
      "Accuracy for C=1: 0.7530364372469636\n",
      "Accuracy for C=5: 0.7692307692307693\n"
     ]
    },
    {
     "name": "stderr",
     "output_type": "stream",
     "text": [
      "/usr/local/anaconda3/lib/python3.7/site-packages/sklearn/linear_model/logistic.py:432: FutureWarning:\n",
      "\n",
      "Default solver will be changed to 'lbfgs' in 0.22. Specify a solver to silence this warning.\n",
      "\n",
      "/usr/local/anaconda3/lib/python3.7/site-packages/sklearn/linear_model/logistic.py:432: FutureWarning:\n",
      "\n",
      "Default solver will be changed to 'lbfgs' in 0.22. Specify a solver to silence this warning.\n",
      "\n",
      "/usr/local/anaconda3/lib/python3.7/site-packages/sklearn/linear_model/logistic.py:432: FutureWarning:\n",
      "\n",
      "Default solver will be changed to 'lbfgs' in 0.22. Specify a solver to silence this warning.\n",
      "\n",
      "/usr/local/anaconda3/lib/python3.7/site-packages/sklearn/linear_model/logistic.py:432: FutureWarning:\n",
      "\n",
      "Default solver will be changed to 'lbfgs' in 0.22. Specify a solver to silence this warning.\n",
      "\n",
      "/usr/local/anaconda3/lib/python3.7/site-packages/sklearn/linear_model/logistic.py:432: FutureWarning:\n",
      "\n",
      "Default solver will be changed to 'lbfgs' in 0.22. Specify a solver to silence this warning.\n",
      "\n"
     ]
    }
   ],
   "source": [
    "from sklearn.metrics import accuracy_score\n",
    "for c in [0.01, 0.25, 0.5, 1, 5]:\n",
    "    \n",
    "    lr = LogisticRegression(C=c)\n",
    "    lr.fit(X_train, y_train)\n",
    "    print (\"Accuracy for C=%s: %s\" \n",
    "           % (c, accuracy_score(y_test, lr.predict(X_test))))"
   ]
  },
  {
   "cell_type": "code",
   "execution_count": 31,
   "metadata": {},
   "outputs": [
    {
     "name": "stdout",
     "output_type": "stream",
     "text": [
      "Accuracy: 76.92307692307693 %\n"
     ]
    },
    {
     "name": "stderr",
     "output_type": "stream",
     "text": [
      "/usr/local/anaconda3/lib/python3.7/site-packages/sklearn/linear_model/logistic.py:432: FutureWarning:\n",
      "\n",
      "Default solver will be changed to 'lbfgs' in 0.22. Specify a solver to silence this warning.\n",
      "\n"
     ]
    }
   ],
   "source": [
    "classifier = LogisticRegression(class_weight= 'balanced', penalty= 'l2',C=5)\n",
    "classifier.fit(X_train, y_train)\n",
    "score = classifier.score(X_test, y_test)\n",
    "\n",
    "print(\"Accuracy:\", score*100,'%')"
   ]
  },
  {
   "cell_type": "code",
   "execution_count": 32,
   "metadata": {},
   "outputs": [],
   "source": [
    "preds = classifier.predict(X_test)"
   ]
  },
  {
   "cell_type": "code",
   "execution_count": 33,
   "metadata": {},
   "outputs": [
    {
     "name": "stdout",
     "output_type": "stream",
     "text": [
      "Confusion matrix:\n",
      "\n",
      "\n",
      "[[106  15]\n",
      " [ 42  84]]\n",
      "\n",
      "\n",
      "Classification Report:\n",
      "\n",
      "\n",
      "              precision    recall  f1-score   support\n",
      "\n",
      "           n       0.72      0.88      0.79       121\n",
      "           p       0.85      0.67      0.75       126\n",
      "\n",
      "    accuracy                           0.77       247\n",
      "   macro avg       0.78      0.77      0.77       247\n",
      "weighted avg       0.78      0.77      0.77       247\n",
      "\n"
     ]
    }
   ],
   "source": [
    "print(\"Confusion matrix:\")\n",
    "print('\\n')\n",
    "print(confusion_matrix(y_test, preds))\n",
    "print('\\n')\n",
    "print(\"Classification Report:\")\n",
    "print('\\n')\n",
    "print(classification_report(y_test, preds))"
   ]
  },
  {
   "cell_type": "markdown",
   "metadata": {},
   "source": [
    "# Multinomial Naive Bayes"
   ]
  },
  {
   "cell_type": "code",
   "execution_count": 34,
   "metadata": {},
   "outputs": [
    {
     "name": "stdout",
     "output_type": "stream",
     "text": [
      "Accuracy: 78.13765182186235 %\n",
      "Confusion Matrix for Random Forest Classifier:\n",
      "\n",
      "\n",
      "[[103  18]\n",
      " [ 36  90]]\n",
      "Classification Report:\n",
      "\n",
      "\n",
      "              precision    recall  f1-score   support\n",
      "\n",
      "           n       0.74      0.85      0.79       121\n",
      "           p       0.83      0.71      0.77       126\n",
      "\n",
      "    accuracy                           0.78       247\n",
      "   macro avg       0.79      0.78      0.78       247\n",
      "weighted avg       0.79      0.78      0.78       247\n",
      "\n"
     ]
    }
   ],
   "source": [
    "from sklearn.naive_bayes import MultinomialNB\n",
    "mnb = MultinomialNB()\n",
    "mnb.fit(X_train,y_train)\n",
    "predmnb = mnb.predict(X_test)\n",
    "score = mnb.score(X_test, y_test)\n",
    "print(\"Accuracy:\", score*100,'%')\n",
    "print(\"Confusion Matrix for Random Forest Classifier:\")\n",
    "print('\\n')\n",
    "print(confusion_matrix(y_test,predmnb))\n",
    "print(\"Classification Report:\")\n",
    "print('\\n')\n",
    "print(classification_report(y_test, predmnb))"
   ]
  },
  {
   "cell_type": "markdown",
   "metadata": {},
   "source": [
    "# ANN"
   ]
  },
  {
   "cell_type": "code",
   "execution_count": 35,
   "metadata": {},
   "outputs": [],
   "source": [
    "df['sentiment'] = df['sentiment'].map({'n': 1, 'p': 0})"
   ]
  },
  {
   "cell_type": "code",
   "execution_count": 36,
   "metadata": {},
   "outputs": [],
   "source": [
    "y = df['sentiment'].values"
   ]
  },
  {
   "cell_type": "code",
   "execution_count": 37,
   "metadata": {},
   "outputs": [],
   "source": [
    "X_train, X_test, y_train, y_test = train_test_split(X, y, test_size=0.25, random_state=1000)"
   ]
  },
  {
   "cell_type": "code",
   "execution_count": 38,
   "metadata": {},
   "outputs": [
    {
     "name": "stdout",
     "output_type": "stream",
     "text": [
      "Model: \"sequential_1\"\n",
      "_________________________________________________________________\n",
      "Layer (type)                 Output Shape              Param #   \n",
      "=================================================================\n",
      "dense_1 (Dense)              (None, 10)                9640      \n",
      "_________________________________________________________________\n",
      "dense_2 (Dense)              (None, 1)                 11        \n",
      "=================================================================\n",
      "Total params: 9,651\n",
      "Trainable params: 9,651\n",
      "Non-trainable params: 0\n",
      "_________________________________________________________________\n"
     ]
    }
   ],
   "source": [
    "input_dim = X_train.shape[1]  # Number of features\n",
    "\n",
    "model = Sequential()\n",
    "model.add(layers.Dense(10, input_dim=input_dim, activation='relu'))\n",
    "model.add(layers.Dense(1, activation='sigmoid'))\n",
    "model.compile(loss='binary_crossentropy', \n",
    "              optimizer='adam', \n",
    "              metrics=['accuracy'])\n",
    "model.summary()"
   ]
  },
  {
   "cell_type": "code",
   "execution_count": 39,
   "metadata": {},
   "outputs": [
    {
     "name": "stdout",
     "output_type": "stream",
     "text": [
      "Train on 741 samples, validate on 247 samples\n",
      "Epoch 1/100\n",
      "741/741 [==============================] - 0s 468us/step - loss: 0.6900 - accuracy: 0.5088 - val_loss: 0.6868 - val_accuracy: 0.5587\n",
      "Epoch 2/100\n",
      "741/741 [==============================] - 0s 179us/step - loss: 0.6730 - accuracy: 0.6599 - val_loss: 0.6739 - val_accuracy: 0.6275\n",
      "Epoch 3/100\n",
      "741/741 [==============================] - 0s 196us/step - loss: 0.6442 - accuracy: 0.7827 - val_loss: 0.6515 - val_accuracy: 0.7206\n",
      "Epoch 4/100\n",
      "741/741 [==============================] - 0s 179us/step - loss: 0.6002 - accuracy: 0.8286 - val_loss: 0.6223 - val_accuracy: 0.7490\n",
      "Epoch 5/100\n",
      "741/741 [==============================] - 0s 174us/step - loss: 0.5465 - accuracy: 0.8758 - val_loss: 0.5931 - val_accuracy: 0.7652\n",
      "Epoch 6/100\n",
      "741/741 [==============================] - 0s 178us/step - loss: 0.4914 - accuracy: 0.9015 - val_loss: 0.5670 - val_accuracy: 0.7490\n",
      "Epoch 7/100\n",
      "741/741 [==============================] - 0s 181us/step - loss: 0.4382 - accuracy: 0.9150 - val_loss: 0.5418 - val_accuracy: 0.7692\n",
      "Epoch 8/100\n",
      "741/741 [==============================] - 0s 179us/step - loss: 0.3893 - accuracy: 0.9271 - val_loss: 0.5246 - val_accuracy: 0.7611\n",
      "Epoch 9/100\n",
      "741/741 [==============================] - 0s 178us/step - loss: 0.3462 - accuracy: 0.9325 - val_loss: 0.5081 - val_accuracy: 0.7692\n",
      "Epoch 10/100\n",
      "741/741 [==============================] - 0s 179us/step - loss: 0.3085 - accuracy: 0.9460 - val_loss: 0.4977 - val_accuracy: 0.7692\n",
      "Epoch 11/100\n",
      "741/741 [==============================] - 0s 179us/step - loss: 0.2762 - accuracy: 0.9582 - val_loss: 0.4940 - val_accuracy: 0.7692\n",
      "Epoch 12/100\n",
      "741/741 [==============================] - 0s 175us/step - loss: 0.2490 - accuracy: 0.9582 - val_loss: 0.4864 - val_accuracy: 0.7692\n",
      "Epoch 13/100\n",
      "741/741 [==============================] - 0s 177us/step - loss: 0.2254 - accuracy: 0.9636 - val_loss: 0.4875 - val_accuracy: 0.7692\n",
      "Epoch 14/100\n",
      "741/741 [==============================] - 0s 178us/step - loss: 0.2060 - accuracy: 0.9636 - val_loss: 0.4923 - val_accuracy: 0.7692\n",
      "Epoch 15/100\n",
      "741/741 [==============================] - 0s 177us/step - loss: 0.1879 - accuracy: 0.9636 - val_loss: 0.4912 - val_accuracy: 0.7773\n",
      "Epoch 16/100\n",
      "741/741 [==============================] - 0s 177us/step - loss: 0.1726 - accuracy: 0.9663 - val_loss: 0.4934 - val_accuracy: 0.7733\n",
      "Epoch 17/100\n",
      "741/741 [==============================] - 0s 176us/step - loss: 0.1591 - accuracy: 0.9717 - val_loss: 0.5015 - val_accuracy: 0.7692\n",
      "Epoch 18/100\n",
      "741/741 [==============================] - 0s 179us/step - loss: 0.1475 - accuracy: 0.9717 - val_loss: 0.5065 - val_accuracy: 0.7692\n",
      "Epoch 19/100\n",
      "741/741 [==============================] - 0s 176us/step - loss: 0.1369 - accuracy: 0.9771 - val_loss: 0.5174 - val_accuracy: 0.7692\n",
      "Epoch 20/100\n",
      "741/741 [==============================] - 0s 177us/step - loss: 0.1278 - accuracy: 0.9771 - val_loss: 0.5194 - val_accuracy: 0.7652\n",
      "Epoch 21/100\n",
      "741/741 [==============================] - 0s 178us/step - loss: 0.1195 - accuracy: 0.9798 - val_loss: 0.5284 - val_accuracy: 0.7652\n",
      "Epoch 22/100\n",
      "741/741 [==============================] - 0s 178us/step - loss: 0.1119 - accuracy: 0.9811 - val_loss: 0.5390 - val_accuracy: 0.7611\n",
      "Epoch 23/100\n",
      "741/741 [==============================] - 0s 181us/step - loss: 0.1057 - accuracy: 0.9838 - val_loss: 0.5451 - val_accuracy: 0.7611\n",
      "Epoch 24/100\n",
      "741/741 [==============================] - 0s 178us/step - loss: 0.0993 - accuracy: 0.9852 - val_loss: 0.5483 - val_accuracy: 0.7571\n",
      "Epoch 25/100\n",
      "741/741 [==============================] - 0s 177us/step - loss: 0.0936 - accuracy: 0.9879 - val_loss: 0.5622 - val_accuracy: 0.7571\n",
      "Epoch 26/100\n",
      "741/741 [==============================] - 0s 178us/step - loss: 0.0888 - accuracy: 0.9865 - val_loss: 0.5722 - val_accuracy: 0.7571\n",
      "Epoch 27/100\n",
      "741/741 [==============================] - 0s 177us/step - loss: 0.0838 - accuracy: 0.9865 - val_loss: 0.5763 - val_accuracy: 0.7611\n",
      "Epoch 28/100\n",
      "741/741 [==============================] - 0s 177us/step - loss: 0.0799 - accuracy: 0.9865 - val_loss: 0.5838 - val_accuracy: 0.7611\n",
      "Epoch 29/100\n",
      "741/741 [==============================] - 0s 179us/step - loss: 0.0760 - accuracy: 0.9865 - val_loss: 0.5956 - val_accuracy: 0.7611\n",
      "Epoch 30/100\n",
      "741/741 [==============================] - 0s 231us/step - loss: 0.0727 - accuracy: 0.9865 - val_loss: 0.6074 - val_accuracy: 0.7611\n",
      "Epoch 31/100\n",
      "741/741 [==============================] - 0s 401us/step - loss: 0.0691 - accuracy: 0.9865 - val_loss: 0.6129 - val_accuracy: 0.7571\n",
      "Epoch 32/100\n",
      "741/741 [==============================] - 0s 437us/step - loss: 0.0662 - accuracy: 0.9879 - val_loss: 0.6211 - val_accuracy: 0.7571\n",
      "Epoch 33/100\n",
      "741/741 [==============================] - 0s 406us/step - loss: 0.0634 - accuracy: 0.9892 - val_loss: 0.6368 - val_accuracy: 0.7571\n",
      "Epoch 34/100\n",
      "741/741 [==============================] - 0s 330us/step - loss: 0.0608 - accuracy: 0.9906 - val_loss: 0.6424 - val_accuracy: 0.7571\n",
      "Epoch 35/100\n",
      "741/741 [==============================] - 0s 301us/step - loss: 0.0588 - accuracy: 0.9892 - val_loss: 0.6513 - val_accuracy: 0.7571\n",
      "Epoch 36/100\n",
      "741/741 [==============================] - 0s 354us/step - loss: 0.0564 - accuracy: 0.9906 - val_loss: 0.6567 - val_accuracy: 0.7571\n",
      "Epoch 37/100\n",
      "741/741 [==============================] - 0s 361us/step - loss: 0.0541 - accuracy: 0.9906 - val_loss: 0.6714 - val_accuracy: 0.7530\n",
      "Epoch 38/100\n",
      "741/741 [==============================] - 0s 267us/step - loss: 0.0525 - accuracy: 0.9906 - val_loss: 0.6750 - val_accuracy: 0.7571\n",
      "Epoch 39/100\n",
      "741/741 [==============================] - 0s 213us/step - loss: 0.0506 - accuracy: 0.9906 - val_loss: 0.6877 - val_accuracy: 0.7530\n",
      "Epoch 40/100\n",
      "741/741 [==============================] - 0s 411us/step - loss: 0.0493 - accuracy: 0.9906 - val_loss: 0.7046 - val_accuracy: 0.7530\n",
      "Epoch 41/100\n",
      "741/741 [==============================] - 0s 358us/step - loss: 0.0474 - accuracy: 0.9906 - val_loss: 0.7032 - val_accuracy: 0.7530\n",
      "Epoch 42/100\n",
      "741/741 [==============================] - 0s 327us/step - loss: 0.0462 - accuracy: 0.9906 - val_loss: 0.7195 - val_accuracy: 0.7490\n",
      "Epoch 43/100\n",
      "741/741 [==============================] - 0s 328us/step - loss: 0.0448 - accuracy: 0.9892 - val_loss: 0.7179 - val_accuracy: 0.7530\n",
      "Epoch 44/100\n",
      "741/741 [==============================] - 0s 325us/step - loss: 0.0435 - accuracy: 0.9892 - val_loss: 0.7210 - val_accuracy: 0.7530\n",
      "Epoch 45/100\n",
      "741/741 [==============================] - 0s 375us/step - loss: 0.0422 - accuracy: 0.9906 - val_loss: 0.7323 - val_accuracy: 0.7530\n",
      "Epoch 46/100\n",
      "741/741 [==============================] - 0s 214us/step - loss: 0.0412 - accuracy: 0.9906 - val_loss: 0.7470 - val_accuracy: 0.7490\n",
      "Epoch 47/100\n",
      "741/741 [==============================] - 0s 183us/step - loss: 0.0401 - accuracy: 0.9906 - val_loss: 0.7606 - val_accuracy: 0.7530\n",
      "Epoch 48/100\n",
      "741/741 [==============================] - 0s 176us/step - loss: 0.0390 - accuracy: 0.9892 - val_loss: 0.7701 - val_accuracy: 0.7530\n",
      "Epoch 49/100\n",
      "741/741 [==============================] - 0s 177us/step - loss: 0.0382 - accuracy: 0.9892 - val_loss: 0.7722 - val_accuracy: 0.7409\n",
      "Epoch 50/100\n",
      "741/741 [==============================] - 0s 182us/step - loss: 0.0375 - accuracy: 0.9919 - val_loss: 0.7738 - val_accuracy: 0.7490\n",
      "Epoch 51/100\n",
      "741/741 [==============================] - 0s 189us/step - loss: 0.0364 - accuracy: 0.9892 - val_loss: 0.7854 - val_accuracy: 0.7449\n",
      "Epoch 52/100\n",
      "741/741 [==============================] - 0s 215us/step - loss: 0.0368 - accuracy: 0.9906 - val_loss: 0.7798 - val_accuracy: 0.7490\n",
      "Epoch 53/100\n",
      "741/741 [==============================] - 0s 190us/step - loss: 0.0352 - accuracy: 0.9906 - val_loss: 0.7965 - val_accuracy: 0.7449\n",
      "Epoch 54/100\n",
      "741/741 [==============================] - 0s 178us/step - loss: 0.0346 - accuracy: 0.9892 - val_loss: 0.8085 - val_accuracy: 0.7530\n",
      "Epoch 55/100\n",
      "741/741 [==============================] - 0s 177us/step - loss: 0.0338 - accuracy: 0.9906 - val_loss: 0.8164 - val_accuracy: 0.7530\n",
      "Epoch 56/100\n",
      "741/741 [==============================] - 0s 176us/step - loss: 0.0332 - accuracy: 0.9919 - val_loss: 0.8187 - val_accuracy: 0.7449\n",
      "Epoch 57/100\n",
      "741/741 [==============================] - 0s 174us/step - loss: 0.0326 - accuracy: 0.9906 - val_loss: 0.8270 - val_accuracy: 0.7449\n",
      "Epoch 58/100\n",
      "741/741 [==============================] - 0s 174us/step - loss: 0.0321 - accuracy: 0.9919 - val_loss: 0.8342 - val_accuracy: 0.7449\n",
      "Epoch 59/100\n",
      "741/741 [==============================] - 0s 176us/step - loss: 0.0317 - accuracy: 0.9906 - val_loss: 0.8368 - val_accuracy: 0.7449\n",
      "Epoch 60/100\n",
      "741/741 [==============================] - 0s 164us/step - loss: 0.0314 - accuracy: 0.9906 - val_loss: 0.8304 - val_accuracy: 0.7449\n",
      "Epoch 61/100\n",
      "741/741 [==============================] - 0s 165us/step - loss: 0.0309 - accuracy: 0.9892 - val_loss: 0.8472 - val_accuracy: 0.7449\n",
      "Epoch 62/100\n",
      "741/741 [==============================] - 0s 175us/step - loss: 0.0302 - accuracy: 0.9879 - val_loss: 0.8578 - val_accuracy: 0.7409\n",
      "Epoch 63/100\n",
      "741/741 [==============================] - 0s 186us/step - loss: 0.0298 - accuracy: 0.9906 - val_loss: 0.8677 - val_accuracy: 0.7409\n",
      "Epoch 64/100\n",
      "741/741 [==============================] - 0s 164us/step - loss: 0.0293 - accuracy: 0.9906 - val_loss: 0.8795 - val_accuracy: 0.7409\n",
      "Epoch 65/100\n",
      "741/741 [==============================] - 0s 165us/step - loss: 0.0287 - accuracy: 0.9906 - val_loss: 0.8855 - val_accuracy: 0.7490\n",
      "Epoch 66/100\n",
      "741/741 [==============================] - 0s 165us/step - loss: 0.0284 - accuracy: 0.9919 - val_loss: 0.8897 - val_accuracy: 0.7490\n",
      "Epoch 67/100\n",
      "741/741 [==============================] - 0s 177us/step - loss: 0.0280 - accuracy: 0.9906 - val_loss: 0.9034 - val_accuracy: 0.7490\n",
      "Epoch 68/100\n",
      "741/741 [==============================] - 0s 207us/step - loss: 0.0276 - accuracy: 0.9919 - val_loss: 0.9105 - val_accuracy: 0.7490\n",
      "Epoch 69/100\n",
      "741/741 [==============================] - 0s 218us/step - loss: 0.0271 - accuracy: 0.9919 - val_loss: 0.9153 - val_accuracy: 0.7490\n",
      "Epoch 70/100\n",
      "741/741 [==============================] - 0s 242us/step - loss: 0.0269 - accuracy: 0.9919 - val_loss: 0.9233 - val_accuracy: 0.7490\n",
      "Epoch 71/100\n",
      "741/741 [==============================] - 0s 232us/step - loss: 0.0267 - accuracy: 0.9919 - val_loss: 0.9307 - val_accuracy: 0.7490\n",
      "Epoch 72/100\n",
      "741/741 [==============================] - 0s 230us/step - loss: 0.0263 - accuracy: 0.9919 - val_loss: 0.9294 - val_accuracy: 0.7490\n",
      "Epoch 73/100\n",
      "741/741 [==============================] - 0s 237us/step - loss: 0.0260 - accuracy: 0.9919 - val_loss: 0.9360 - val_accuracy: 0.7490\n",
      "Epoch 74/100\n",
      "741/741 [==============================] - 0s 176us/step - loss: 0.0256 - accuracy: 0.9919 - val_loss: 0.9440 - val_accuracy: 0.7449\n",
      "Epoch 75/100\n",
      "741/741 [==============================] - 0s 174us/step - loss: 0.0252 - accuracy: 0.9906 - val_loss: 0.9570 - val_accuracy: 0.7490\n",
      "Epoch 76/100\n",
      "741/741 [==============================] - 0s 174us/step - loss: 0.0251 - accuracy: 0.9906 - val_loss: 0.9631 - val_accuracy: 0.7449\n",
      "Epoch 77/100\n",
      "741/741 [==============================] - 0s 191us/step - loss: 0.0251 - accuracy: 0.9906 - val_loss: 0.9639 - val_accuracy: 0.7449\n",
      "Epoch 78/100\n",
      "741/741 [==============================] - 0s 166us/step - loss: 0.0248 - accuracy: 0.9892 - val_loss: 0.9853 - val_accuracy: 0.7490\n",
      "Epoch 79/100\n",
      "741/741 [==============================] - 0s 174us/step - loss: 0.0243 - accuracy: 0.9919 - val_loss: 0.9848 - val_accuracy: 0.7449\n",
      "Epoch 80/100\n",
      "741/741 [==============================] - 0s 176us/step - loss: 0.0241 - accuracy: 0.9906 - val_loss: 0.9901 - val_accuracy: 0.7449\n",
      "Epoch 81/100\n",
      "741/741 [==============================] - 0s 173us/step - loss: 0.0239 - accuracy: 0.9919 - val_loss: 0.9933 - val_accuracy: 0.7449\n",
      "Epoch 82/100\n",
      "741/741 [==============================] - 0s 165us/step - loss: 0.0237 - accuracy: 0.9892 - val_loss: 1.0024 - val_accuracy: 0.7449\n",
      "Epoch 83/100\n",
      "741/741 [==============================] - 0s 176us/step - loss: 0.0236 - accuracy: 0.9919 - val_loss: 1.0016 - val_accuracy: 0.7449\n",
      "Epoch 84/100\n",
      "741/741 [==============================] - 0s 175us/step - loss: 0.0235 - accuracy: 0.9906 - val_loss: 1.0107 - val_accuracy: 0.7449\n",
      "Epoch 85/100\n",
      "741/741 [==============================] - 0s 178us/step - loss: 0.0230 - accuracy: 0.9906 - val_loss: 1.0250 - val_accuracy: 0.7449\n",
      "Epoch 86/100\n",
      "741/741 [==============================] - 0s 173us/step - loss: 0.0229 - accuracy: 0.9906 - val_loss: 1.0271 - val_accuracy: 0.7368\n",
      "Epoch 87/100\n",
      "741/741 [==============================] - 0s 173us/step - loss: 0.0228 - accuracy: 0.9919 - val_loss: 1.0369 - val_accuracy: 0.7449\n",
      "Epoch 88/100\n",
      "741/741 [==============================] - 0s 165us/step - loss: 0.0227 - accuracy: 0.9892 - val_loss: 1.0412 - val_accuracy: 0.7449\n",
      "Epoch 89/100\n",
      "741/741 [==============================] - 0s 174us/step - loss: 0.0225 - accuracy: 0.9919 - val_loss: 1.0460 - val_accuracy: 0.7449\n",
      "Epoch 90/100\n",
      "741/741 [==============================] - 0s 166us/step - loss: 0.0224 - accuracy: 0.9919 - val_loss: 1.0622 - val_accuracy: 0.7449\n",
      "Epoch 91/100\n",
      "741/741 [==============================] - 0s 166us/step - loss: 0.0221 - accuracy: 0.9892 - val_loss: 1.0654 - val_accuracy: 0.7449\n",
      "Epoch 92/100\n",
      "741/741 [==============================] - 0s 164us/step - loss: 0.0221 - accuracy: 0.9919 - val_loss: 1.0637 - val_accuracy: 0.7449\n",
      "Epoch 93/100\n",
      "741/741 [==============================] - 0s 174us/step - loss: 0.0219 - accuracy: 0.9906 - val_loss: 1.0688 - val_accuracy: 0.7449\n",
      "Epoch 94/100\n",
      "741/741 [==============================] - 0s 177us/step - loss: 0.0218 - accuracy: 0.9919 - val_loss: 1.0742 - val_accuracy: 0.7449\n",
      "Epoch 95/100\n",
      "741/741 [==============================] - 0s 175us/step - loss: 0.0216 - accuracy: 0.9919 - val_loss: 1.0765 - val_accuracy: 0.7368\n",
      "Epoch 96/100\n",
      "741/741 [==============================] - 0s 175us/step - loss: 0.0218 - accuracy: 0.9906 - val_loss: 1.0881 - val_accuracy: 0.7449\n",
      "Epoch 97/100\n",
      "741/741 [==============================] - 0s 175us/step - loss: 0.0213 - accuracy: 0.9906 - val_loss: 1.0950 - val_accuracy: 0.7449\n",
      "Epoch 98/100\n",
      "741/741 [==============================] - 0s 174us/step - loss: 0.0213 - accuracy: 0.9892 - val_loss: 1.1047 - val_accuracy: 0.7449\n",
      "Epoch 99/100\n",
      "741/741 [==============================] - 0s 165us/step - loss: 0.0214 - accuracy: 0.9906 - val_loss: 1.1089 - val_accuracy: 0.7409\n",
      "Epoch 100/100\n",
      "741/741 [==============================] - 0s 174us/step - loss: 0.0209 - accuracy: 0.9906 - val_loss: 1.1180 - val_accuracy: 0.7449\n"
     ]
    },
    {
     "data": {
      "text/plain": [
       "<keras.callbacks.callbacks.History at 0x1a499a2d10>"
      ]
     },
     "execution_count": 39,
     "metadata": {},
     "output_type": "execute_result"
    }
   ],
   "source": [
    "model.fit(X_train, y_train,\n",
    "                    epochs=100,\n",
    "                    verbose=True,\n",
    "                    validation_data=(X_test, y_test),\n",
    "                    batch_size=10)"
   ]
  },
  {
   "cell_type": "code",
   "execution_count": 40,
   "metadata": {},
   "outputs": [
    {
     "name": "stdout",
     "output_type": "stream",
     "text": [
      "score: 1.12\n",
      "accuracy: 0.74\n"
     ]
    }
   ],
   "source": [
    "score,acc = model.evaluate(X_test, y_test, verbose = 2, batch_size = 32)\n",
    "print(\"score: %.2f\" % (score))\n",
    "print(\"accuracy: %.2f\" % (acc))"
   ]
  },
  {
   "cell_type": "code",
   "execution_count": 41,
   "metadata": {},
   "outputs": [
    {
     "data": {
      "text/plain": [
       "array([[ 82,  44],\n",
       "       [ 19, 102]])"
      ]
     },
     "execution_count": 41,
     "metadata": {},
     "output_type": "execute_result"
    }
   ],
   "source": [
    "# Predicting the Test set results\n",
    "y_pred = model.predict(X_test)\n",
    "y_pred = (y_pred > 0.5)\n",
    "\n",
    "# Making the Confusion Matrix\n",
    "confusion_matrix(y_test, y_pred)"
   ]
  },
  {
   "cell_type": "code",
   "execution_count": 43,
   "metadata": {},
   "outputs": [
    {
     "name": "stdout",
     "output_type": "stream",
     "text": [
      "Classification Report:\n",
      "\n",
      "\n",
      "              precision    recall  f1-score   support\n",
      "\n",
      "           0       0.81      0.65      0.72       126\n",
      "           1       0.70      0.84      0.76       121\n",
      "\n",
      "    accuracy                           0.74       247\n",
      "   macro avg       0.76      0.75      0.74       247\n",
      "weighted avg       0.76      0.74      0.74       247\n",
      "\n"
     ]
    }
   ],
   "source": [
    "print(\"Classification Report:\")\n",
    "print('\\n')\n",
    "print(classification_report(y_test, y_pred))"
   ]
  },
  {
   "cell_type": "markdown",
   "metadata": {},
   "source": [
    "# Tuning ANN"
   ]
  },
  {
   "cell_type": "code",
   "execution_count": 44,
   "metadata": {},
   "outputs": [],
   "source": [
    "neurons = [1, 5, 10]\n",
    "optimizer = ['SGD', 'RMSprop', 'Adagrad', 'Adadelta', 'Adam', 'Adamax', 'Nadam']\n",
    "activation = ['softmax', 'softplus', 'softsign', 'relu', 'tanh', 'sigmoid', 'hard_sigmoid', 'linear']\n",
    "batch_size = [10, 20, 40, 60, 80, 100]\n",
    "epochs = [10, 50, 100]\n",
    "input_dim = X_train.shape[1]  # Number of features\n",
    "def create_model(optimizer, activation, neurons):\n",
    "    model = Sequential()\n",
    "    model.add(layers.Dense(neurons, input_dim=input_dim, activation=activation))\n",
    "    model.add(layers.Dense(1, activation='sigmoid'))\n",
    "    model.compile(loss='binary_crossentropy', optimizer=optimizer, metrics=['accuracy'])\n",
    "    return model\n",
    "model = KerasClassifier(build_fn=create_model, verbose=0)"
   ]
  },
  {
   "cell_type": "code",
   "execution_count": 107,
   "metadata": {
    "scrolled": true
   },
   "outputs": [
    {
     "name": "stdout",
     "output_type": "stream",
     "text": [
      "Fitting 3 folds for each of 3024 candidates, totalling 9072 fits\n"
     ]
    },
    {
     "name": "stderr",
     "output_type": "stream",
     "text": [
      "[Parallel(n_jobs=-1)]: Using backend LokyBackend with 4 concurrent workers.\n",
      "[Parallel(n_jobs=-1)]: Done  42 tasks      | elapsed:   33.7s\n",
      "[Parallel(n_jobs=-1)]: Done 192 tasks      | elapsed:  6.7min\n",
      "[Parallel(n_jobs=-1)]: Done 442 tasks      | elapsed: 11.0min\n",
      "[Parallel(n_jobs=-1)]: Done 792 tasks      | elapsed: 16.0min\n",
      "[Parallel(n_jobs=-1)]: Done 1242 tasks      | elapsed: 21.9min\n",
      "[Parallel(n_jobs=-1)]: Done 1792 tasks      | elapsed: 33.1min\n",
      "[Parallel(n_jobs=-1)]: Done 2442 tasks      | elapsed: 43.2min\n",
      "[Parallel(n_jobs=-1)]: Done 3192 tasks      | elapsed: 53.9min\n",
      "[Parallel(n_jobs=-1)]: Done 4042 tasks      | elapsed: 68.1min\n",
      "[Parallel(n_jobs=-1)]: Done 4992 tasks      | elapsed: 83.7min\n",
      "[Parallel(n_jobs=-1)]: Done 6042 tasks      | elapsed: 101.0min\n",
      "[Parallel(n_jobs=-1)]: Done 7192 tasks      | elapsed: 120.2min\n",
      "[Parallel(n_jobs=-1)]: Done 8442 tasks      | elapsed: 142.6min\n",
      "[Parallel(n_jobs=-1)]: Done 9072 out of 9072 | elapsed: 150.5min finished\n"
     ]
    },
    {
     "name": "stdout",
     "output_type": "stream",
     "text": [
      "Best: 0.770580 using {'activation': 'relu', 'batch_size': 10, 'epochs': 50, 'neurons': 5, 'optimizer': 'RMSprop'}\n"
     ]
    }
   ],
   "source": [
    "param_grid = dict(optimizer=optimizer, batch_size=batch_size, epochs=epochs, activation=activation, neurons=neurons)\n",
    "grid = GridSearchCV(estimator=model, param_grid=param_grid, n_jobs=-1, cv=3, verbose=True)\n",
    "grid_result = grid.fit(X_train, y_train)\n",
    "# summarize results\n",
    "print(\"Best: %f using %s\" % (grid_result.best_score_, grid_result.best_params_))"
   ]
  },
  {
   "cell_type": "code",
   "execution_count": 45,
   "metadata": {},
   "outputs": [
    {
     "name": "stdout",
     "output_type": "stream",
     "text": [
      "Model: \"sequential_2\"\n",
      "_________________________________________________________________\n",
      "Layer (type)                 Output Shape              Param #   \n",
      "=================================================================\n",
      "dense_3 (Dense)              (None, 5)                 4820      \n",
      "_________________________________________________________________\n",
      "dense_4 (Dense)              (None, 1)                 6         \n",
      "=================================================================\n",
      "Total params: 4,826\n",
      "Trainable params: 4,826\n",
      "Non-trainable params: 0\n",
      "_________________________________________________________________\n"
     ]
    }
   ],
   "source": [
    "input_dim = X_train.shape[1]  # Number of features\n",
    "\n",
    "model = Sequential()\n",
    "model.add(layers.Dense(5, input_dim=input_dim, activation='relu'))\n",
    "model.add(layers.Dense(1, activation='sigmoid'))\n",
    "model.compile(loss='binary_crossentropy', \n",
    "              optimizer='RMSprop', \n",
    "              metrics=['accuracy'])\n",
    "model.summary()"
   ]
  },
  {
   "cell_type": "code",
   "execution_count": 46,
   "metadata": {},
   "outputs": [
    {
     "name": "stdout",
     "output_type": "stream",
     "text": [
      "Train on 741 samples, validate on 247 samples\n",
      "Epoch 1/50\n",
      "741/741 [==============================] - 0s 336us/step - loss: 0.6920 - accuracy: 0.5007 - val_loss: 0.6922 - val_accuracy: 0.5385\n",
      "Epoch 2/50\n",
      "741/741 [==============================] - 0s 232us/step - loss: 0.6868 - accuracy: 0.5830 - val_loss: 0.6892 - val_accuracy: 0.5668\n",
      "Epoch 3/50\n",
      "741/741 [==============================] - 0s 263us/step - loss: 0.6798 - accuracy: 0.5870 - val_loss: 0.6846 - val_accuracy: 0.5830\n",
      "Epoch 4/50\n",
      "741/741 [==============================] - 0s 237us/step - loss: 0.6700 - accuracy: 0.6437 - val_loss: 0.6784 - val_accuracy: 0.5668\n",
      "Epoch 5/50\n",
      "741/741 [==============================] - 0s 196us/step - loss: 0.6580 - accuracy: 0.6491 - val_loss: 0.6713 - val_accuracy: 0.5911\n",
      "Epoch 6/50\n",
      "741/741 [==============================] - 0s 184us/step - loss: 0.6442 - accuracy: 0.7099 - val_loss: 0.6637 - val_accuracy: 0.5709\n",
      "Epoch 7/50\n",
      "741/741 [==============================] - 0s 185us/step - loss: 0.6290 - accuracy: 0.7260 - val_loss: 0.6552 - val_accuracy: 0.6154\n",
      "Epoch 8/50\n",
      "741/741 [==============================] - 0s 180us/step - loss: 0.6130 - accuracy: 0.7625 - val_loss: 0.6469 - val_accuracy: 0.6154\n",
      "Epoch 9/50\n",
      "741/741 [==============================] - 0s 288us/step - loss: 0.5964 - accuracy: 0.7814 - val_loss: 0.6395 - val_accuracy: 0.6154\n",
      "Epoch 10/50\n",
      "741/741 [==============================] - 0s 401us/step - loss: 0.5798 - accuracy: 0.7787 - val_loss: 0.6294 - val_accuracy: 0.6559\n",
      "Epoch 11/50\n",
      "741/741 [==============================] - 0s 300us/step - loss: 0.5625 - accuracy: 0.8057 - val_loss: 0.6213 - val_accuracy: 0.6518\n",
      "Epoch 12/50\n",
      "741/741 [==============================] - 0s 281us/step - loss: 0.5455 - accuracy: 0.8192 - val_loss: 0.6125 - val_accuracy: 0.6761\n",
      "Epoch 13/50\n",
      "741/741 [==============================] - 0s 388us/step - loss: 0.5286 - accuracy: 0.8435 - val_loss: 0.6043 - val_accuracy: 0.6842\n",
      "Epoch 14/50\n",
      "741/741 [==============================] - 0s 339us/step - loss: 0.5119 - accuracy: 0.8556 - val_loss: 0.5975 - val_accuracy: 0.6883\n",
      "Epoch 15/50\n",
      "741/741 [==============================] - 0s 298us/step - loss: 0.4959 - accuracy: 0.8637 - val_loss: 0.5883 - val_accuracy: 0.7045\n",
      "Epoch 16/50\n",
      "741/741 [==============================] - 0s 391us/step - loss: 0.4797 - accuracy: 0.8772 - val_loss: 0.5833 - val_accuracy: 0.7004\n",
      "Epoch 17/50\n",
      "741/741 [==============================] - 0s 195us/step - loss: 0.4643 - accuracy: 0.8772 - val_loss: 0.5755 - val_accuracy: 0.7085\n",
      "Epoch 18/50\n",
      "741/741 [==============================] - 0s 188us/step - loss: 0.4491 - accuracy: 0.8880 - val_loss: 0.5693 - val_accuracy: 0.7126\n",
      "Epoch 19/50\n",
      "741/741 [==============================] - 0s 376us/step - loss: 0.4344 - accuracy: 0.8880 - val_loss: 0.5637 - val_accuracy: 0.7166\n",
      "Epoch 20/50\n",
      "741/741 [==============================] - 0s 189us/step - loss: 0.4202 - accuracy: 0.8947 - val_loss: 0.5614 - val_accuracy: 0.7126\n",
      "Epoch 21/50\n",
      "741/741 [==============================] - 0s 407us/step - loss: 0.4069 - accuracy: 0.9001 - val_loss: 0.5541 - val_accuracy: 0.7368\n",
      "Epoch 22/50\n",
      "741/741 [==============================] - 0s 343us/step - loss: 0.3935 - accuracy: 0.9028 - val_loss: 0.5447 - val_accuracy: 0.7449\n",
      "Epoch 23/50\n",
      "741/741 [==============================] - 0s 179us/step - loss: 0.3800 - accuracy: 0.9055 - val_loss: 0.5438 - val_accuracy: 0.7409\n",
      "Epoch 24/50\n",
      "741/741 [==============================] - 0s 231us/step - loss: 0.3674 - accuracy: 0.9082 - val_loss: 0.5400 - val_accuracy: 0.7490\n",
      "Epoch 25/50\n",
      "741/741 [==============================] - 0s 226us/step - loss: 0.3554 - accuracy: 0.9109 - val_loss: 0.5343 - val_accuracy: 0.7652\n",
      "Epoch 26/50\n",
      "741/741 [==============================] - 0s 268us/step - loss: 0.3444 - accuracy: 0.9123 - val_loss: 0.5328 - val_accuracy: 0.7652\n",
      "Epoch 27/50\n",
      "741/741 [==============================] - 0s 189us/step - loss: 0.3333 - accuracy: 0.9150 - val_loss: 0.5290 - val_accuracy: 0.7652\n",
      "Epoch 28/50\n",
      "741/741 [==============================] - 0s 202us/step - loss: 0.3214 - accuracy: 0.9231 - val_loss: 0.5180 - val_accuracy: 0.7652\n",
      "Epoch 29/50\n",
      "741/741 [==============================] - 0s 207us/step - loss: 0.3126 - accuracy: 0.9150 - val_loss: 0.5288 - val_accuracy: 0.7611\n",
      "Epoch 30/50\n",
      "741/741 [==============================] - 0s 164us/step - loss: 0.3026 - accuracy: 0.9177 - val_loss: 0.5225 - val_accuracy: 0.7571\n",
      "Epoch 31/50\n",
      "741/741 [==============================] - 0s 164us/step - loss: 0.2932 - accuracy: 0.9177 - val_loss: 0.5323 - val_accuracy: 0.7571\n",
      "Epoch 32/50\n",
      "741/741 [==============================] - 0s 165us/step - loss: 0.2850 - accuracy: 0.9204 - val_loss: 0.5249 - val_accuracy: 0.7611\n",
      "Epoch 33/50\n",
      "741/741 [==============================] - 0s 178us/step - loss: 0.2761 - accuracy: 0.9258 - val_loss: 0.5191 - val_accuracy: 0.7571\n",
      "Epoch 34/50\n",
      "741/741 [==============================] - 0s 173us/step - loss: 0.2674 - accuracy: 0.9298 - val_loss: 0.5304 - val_accuracy: 0.7611\n",
      "Epoch 35/50\n",
      "741/741 [==============================] - 0s 165us/step - loss: 0.2601 - accuracy: 0.9298 - val_loss: 0.5236 - val_accuracy: 0.7571\n",
      "Epoch 36/50\n",
      "741/741 [==============================] - 0s 173us/step - loss: 0.2525 - accuracy: 0.9339 - val_loss: 0.5260 - val_accuracy: 0.7571\n",
      "Epoch 37/50\n",
      "741/741 [==============================] - 0s 158us/step - loss: 0.2446 - accuracy: 0.9339 - val_loss: 0.5291 - val_accuracy: 0.7571\n",
      "Epoch 38/50\n",
      "741/741 [==============================] - 0s 166us/step - loss: 0.2371 - accuracy: 0.9379 - val_loss: 0.5379 - val_accuracy: 0.7611\n",
      "Epoch 39/50\n",
      "741/741 [==============================] - 0s 178us/step - loss: 0.2305 - accuracy: 0.9379 - val_loss: 0.5384 - val_accuracy: 0.7571\n",
      "Epoch 40/50\n",
      "741/741 [==============================] - 0s 177us/step - loss: 0.2241 - accuracy: 0.9406 - val_loss: 0.5373 - val_accuracy: 0.7652\n",
      "Epoch 41/50\n",
      "741/741 [==============================] - 0s 199us/step - loss: 0.2181 - accuracy: 0.9420 - val_loss: 0.5411 - val_accuracy: 0.7652\n",
      "Epoch 42/50\n",
      "741/741 [==============================] - 0s 194us/step - loss: 0.2125 - accuracy: 0.9420 - val_loss: 0.5436 - val_accuracy: 0.7652\n",
      "Epoch 43/50\n",
      "741/741 [==============================] - 0s 214us/step - loss: 0.2069 - accuracy: 0.9433 - val_loss: 0.5465 - val_accuracy: 0.7692\n",
      "Epoch 44/50\n",
      "741/741 [==============================] - 0s 210us/step - loss: 0.2014 - accuracy: 0.9447 - val_loss: 0.5543 - val_accuracy: 0.7652\n",
      "Epoch 45/50\n",
      "741/741 [==============================] - 0s 161us/step - loss: 0.1962 - accuracy: 0.9460 - val_loss: 0.5601 - val_accuracy: 0.7652\n",
      "Epoch 46/50\n",
      "741/741 [==============================] - 0s 307us/step - loss: 0.1913 - accuracy: 0.9460 - val_loss: 0.5682 - val_accuracy: 0.7692\n",
      "Epoch 47/50\n",
      "741/741 [==============================] - 0s 495us/step - loss: 0.1862 - accuracy: 0.9460 - val_loss: 0.5646 - val_accuracy: 0.7773\n",
      "Epoch 48/50\n",
      "741/741 [==============================] - 0s 262us/step - loss: 0.1819 - accuracy: 0.9447 - val_loss: 0.5758 - val_accuracy: 0.7773\n",
      "Epoch 49/50\n",
      "741/741 [==============================] - 0s 229us/step - loss: 0.1777 - accuracy: 0.9487 - val_loss: 0.5754 - val_accuracy: 0.7773\n",
      "Epoch 50/50\n",
      "741/741 [==============================] - 0s 274us/step - loss: 0.1735 - accuracy: 0.9433 - val_loss: 0.5855 - val_accuracy: 0.7773\n"
     ]
    },
    {
     "data": {
      "text/plain": [
       "<keras.callbacks.callbacks.History at 0x1a40d50410>"
      ]
     },
     "execution_count": 46,
     "metadata": {},
     "output_type": "execute_result"
    }
   ],
   "source": [
    "model.fit(X_train, y_train,\n",
    "                    epochs=50,\n",
    "                    verbose=True,\n",
    "                    validation_data=(X_test, y_test),\n",
    "                    batch_size=10)"
   ]
  },
  {
   "cell_type": "code",
   "execution_count": 47,
   "metadata": {},
   "outputs": [
    {
     "name": "stdout",
     "output_type": "stream",
     "text": [
      "score: 0.59\n",
      "accuracy: 0.78\n"
     ]
    }
   ],
   "source": [
    "score,acc = model.evaluate(X_test, y_test, verbose = 2, batch_size = 32)\n",
    "print(\"score: %.2f\" % (score))\n",
    "print(\"accuracy: %.2f\" % (acc))"
   ]
  },
  {
   "cell_type": "code",
   "execution_count": 48,
   "metadata": {},
   "outputs": [
    {
     "data": {
      "text/plain": [
       "array([[ 86,  40],\n",
       "       [ 15, 106]])"
      ]
     },
     "execution_count": 48,
     "metadata": {},
     "output_type": "execute_result"
    }
   ],
   "source": [
    "# Predicting the Test set results\n",
    "y_pred = model.predict(X_test)\n",
    "y_pred = (y_pred > 0.5)\n",
    "\n",
    "# Making the Confusion Matrix\n",
    "confusion_matrix(y_test, y_pred)"
   ]
  },
  {
   "cell_type": "code",
   "execution_count": 49,
   "metadata": {},
   "outputs": [
    {
     "name": "stdout",
     "output_type": "stream",
     "text": [
      "Classification Report:\n",
      "\n",
      "\n",
      "              precision    recall  f1-score   support\n",
      "\n",
      "           0       0.85      0.68      0.76       126\n",
      "           1       0.73      0.88      0.79       121\n",
      "\n",
      "    accuracy                           0.78       247\n",
      "   macro avg       0.79      0.78      0.78       247\n",
      "weighted avg       0.79      0.78      0.78       247\n",
      "\n"
     ]
    }
   ],
   "source": [
    "print(\"Classification Report:\")\n",
    "print('\\n')\n",
    "print(classification_report(y_test, y_pred))"
   ]
  },
  {
   "cell_type": "markdown",
   "metadata": {},
   "source": [
    "### I think ANN model provides an accuracy of 78%when fine tuned but tuning the model takes a lot of time. In that scenario, algorithms like Naive Bayes and Logistic run very fast. Naive Bayes gave an impressive accuracy (78.13%) while taking minimal time. Hence Naive Bayes was considered as the best model as per my analysis. If we would have more data then I think ANN could have achieved even more accuracy."
   ]
  },
  {
   "cell_type": "code",
   "execution_count": null,
   "metadata": {},
   "outputs": [],
   "source": []
  }
 ],
 "metadata": {
  "kernelspec": {
   "display_name": "Python 3",
   "language": "python",
   "name": "python3"
  },
  "language_info": {
   "codemirror_mode": {
    "name": "ipython",
    "version": 3
   },
   "file_extension": ".py",
   "mimetype": "text/x-python",
   "name": "python",
   "nbconvert_exporter": "python",
   "pygments_lexer": "ipython3",
   "version": "3.7.4"
  }
 },
 "nbformat": 4,
 "nbformat_minor": 2
}
